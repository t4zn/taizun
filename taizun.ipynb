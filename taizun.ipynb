{
  "nbformat": 4,
  "nbformat_minor": 0,
  "metadata": {
    "colab": {
      "provenance": [],
      "toc_visible": true,
      "authorship_tag": "ABX9TyNf/Ypy7YnKJiHd+5min3WV",
      "include_colab_link": true
    },
    "kernelspec": {
      "name": "python3",
      "display_name": "Python 3"
    },
    "language_info": {
      "name": "python"
    }
  },
  "cells": [
    {
      "cell_type": "markdown",
      "metadata": {
        "id": "view-in-github",
        "colab_type": "text"
      },
      "source": [
        "<a href=\"https://colab.research.google.com/github/t4zn/taizun/blob/main/taizun.ipynb\" target=\"_parent\"><img src=\"https://colab.research.google.com/assets/colab-badge.svg\" alt=\"Open In Colab\"/></a>"
      ]
    },
    {
      "cell_type": "markdown",
      "source": [
        "**Import Library**"
      ],
      "metadata": {
        "id": "HrbXV6u6BPMc"
      }
    },
    {
      "cell_type": "code",
      "execution_count": 4,
      "metadata": {
        "id": "EDFQT79durpw",
        "colab": {
          "base_uri": "https://localhost:8080/"
        },
        "outputId": "7a4a35f7-d181-4d49-90a3-0bee37a4eb44"
      },
      "outputs": [
        {
          "output_type": "stream",
          "name": "stdout",
          "text": [
            "Taizun is an AI engineer studying in their first year, pursuing a BTech degree. Hope you have a great day ahead.\n"
          ]
        }
      ],
      "source": [
        "import taizun as tz"
      ]
    },
    {
      "cell_type": "markdown",
      "source": [
        "**NLP**"
      ],
      "metadata": {
        "id": "Gpmtp0E-FHHB"
      }
    },
    {
      "cell_type": "code",
      "source": [
        "tz.summarize(\"Christmas is a joyful and festive time of year, celebrated around the world by people of many different cultures and traditions. It is a time for families and friends to come together, share meals, exchange gifts, and create cherished memories. At its heart, Christmas celebrates the spirit of giving, love, and compassion, reflecting the values of kindness and generosity. From twinkling lights decorating homes and streets to the sounds of holiday music filling the air, the season brings a sense of warmth and togetherness. Whether it's through religious observances or secular traditions, Christmas serves as a reminder to appreciate the people around us and the blessings we have.\")"
      ],
      "metadata": {
        "id": "oUJTq1DaBNP1"
      },
      "execution_count": null,
      "outputs": []
    },
    {
      "cell_type": "code",
      "source": [
        "tz.moodscan(\"The weather today is okay, neither good nor bad.\")"
      ],
      "metadata": {
        "id": "uNhp8skk4XU-"
      },
      "execution_count": null,
      "outputs": []
    },
    {
      "cell_type": "code",
      "source": [
        "tz.labels(\"Apple Inc. was founded by Steve Jobs in California in 1976\")"
      ],
      "metadata": {
        "id": "ei0_d0HYFWBk"
      },
      "execution_count": null,
      "outputs": []
    },
    {
      "cell_type": "code",
      "source": [
        "tz.scrub(\"The cat is sitting on the mat.\")"
      ],
      "metadata": {
        "id": "R5MT45LC57EF"
      },
      "execution_count": null,
      "outputs": []
    },
    {
      "cell_type": "code",
      "source": [
        "tz.wordcount(\"Artificial intelligence is revolutionizing the world. AI is transforming industries, from healthcare to finance. With AI, machines are learning and adapting to new environments. The future of AI is bright and full of possibilities.\")"
      ],
      "metadata": {
        "id": "jvoRvf0v6mtE"
      },
      "execution_count": null,
      "outputs": []
    },
    {
      "cell_type": "markdown",
      "source": [
        "**COMPUTER VISION**"
      ],
      "metadata": {
        "id": "JuQcprJVFih2"
      }
    },
    {
      "cell_type": "markdown",
      "source": [
        "For uploading image"
      ],
      "metadata": {
        "id": "DrWHOxSRFrVo"
      }
    },
    {
      "cell_type": "code",
      "source": [
        "from google.colab import files\n",
        "uploaded = files.upload()\n"
      ],
      "metadata": {
        "id": "ZUsZalGO7yB0"
      },
      "execution_count": null,
      "outputs": []
    },
    {
      "cell_type": "markdown",
      "source": [
        "For downloading image"
      ],
      "metadata": {
        "id": "L2d4FOjmGA5p"
      }
    },
    {
      "cell_type": "code",
      "source": [
        "from google.colab import files\n",
        "output_image_path = \"D:\\\\image99.jpg\"\n",
        "files.download(output_image_path)"
      ],
      "metadata": {
        "id": "ru8GdGZv-eth"
      },
      "execution_count": null,
      "outputs": []
    },
    {
      "cell_type": "code",
      "source": [
        "tz.imagecaption(r\"pexels-mikebirdy-170811.jpg\")\n"
      ],
      "metadata": {
        "id": "GZVvCJK468_a"
      },
      "execution_count": null,
      "outputs": []
    },
    {
      "cell_type": "code",
      "source": [
        "tz.classify_image(r\"pexels-mikebirdy-170811.jpg\")"
      ],
      "metadata": {
        "id": "tRB4CTzA8K81"
      },
      "execution_count": null,
      "outputs": []
    },
    {
      "cell_type": "code",
      "source": [
        "tz.spot(r\"pexels-mikebirdy-170811.jpg\")"
      ],
      "metadata": {
        "id": "TLUkcabT9RCI"
      },
      "execution_count": null,
      "outputs": []
    },
    {
      "cell_type": "code",
      "source": [
        "tz.resize_image(r\"pexels-mikebirdy-170811.jpg\", \"D:\\image79.jpg\")\n"
      ],
      "metadata": {
        "id": "OnFf2RLk9cJ8"
      },
      "execution_count": null,
      "outputs": []
    },
    {
      "cell_type": "code",
      "source": [
        "tz.grayscale(r\"pexels-mikebirdy-170811.jpg\", \"D:\\image99.jpg\")\n",
        "\n"
      ],
      "metadata": {
        "id": "vtePb9yV9p9q"
      },
      "execution_count": null,
      "outputs": []
    },
    {
      "cell_type": "markdown",
      "source": [
        "**MATHEMATICAL OPERATIONS**"
      ],
      "metadata": {
        "id": "cGJHZhZCbFDz"
      }
    },
    {
      "cell_type": "code",
      "source": [
        "num1, num2 = 10, 5\n",
        "operation_type = 'add'\n",
        "print(tz.calculator(num1, num2, operation_type))\n",
        "\n",
        "even_check_num = 4\n",
        "print(tz.is_even(even_check_num))\n",
        "\n",
        "odd_check_num = 5\n",
        "print(tz.is_odd(odd_check_num))\n",
        "\n",
        "square_num = 3\n",
        "print(tz.square(square_num))\n",
        "\n",
        "cube_num = 2\n",
        "print(tz.cube(cube_num))\n",
        "\n",
        "factorial_num = 5\n",
        "print(tz.factorial(factorial_num))\n",
        "\n",
        "base_num, exponent_num = 2, 3\n",
        "print(tz.power(base_num, exponent_num))\n",
        "\n",
        "min_num, max_num = 5, 10\n",
        "print(tz.min_val(min_num, max_num))\n",
        "\n",
        "number_list = [1, 2, 3, 4, 5]\n",
        "print(tz.avg(number_list))\n",
        "\n",
        "factorial_nums = [3, 4, 5]\n",
        "print(tz.factorial_list(factorial_nums))\n"
      ],
      "metadata": {
        "id": "NxP5TNC3aaWS"
      },
      "execution_count": null,
      "outputs": []
    },
    {
      "cell_type": "markdown",
      "source": [
        "**STRING OPERATIONS**"
      ],
      "metadata": {
        "id": "V1NAY6G8cmVA"
      }
    },
    {
      "cell_type": "code",
      "source": [
        "text_input = \"hello\"\n",
        "print(tz.reverse(text_input))\n",
        "\n",
        "user_name = \"Taizun\"\n",
        "print(tz.greet(user_name))\n",
        "\n",
        "capitalize_string = \"hello\"\n",
        "print(tz.capitalize(capitalize_string))\n",
        "\n",
        "lowercase_string = \"HELLO\"\n",
        "print(tz.lowercase(lowercase_string))\n",
        "\n",
        "uppercase_string = \"hello\"\n",
        "print(tz.uppercase(uppercase_string))\n",
        "\n",
        "first_string, second_string = \"Hello\", \" World\"\n",
        "print(tz.concat(first_string, second_string))\n",
        "\n",
        "space_string = \"   hello   \"\n",
        "print(tz.strip_spaces(space_string))\n",
        "\n",
        "split_string_input = \"Hello World\"\n",
        "print(tz.split_string(split_string_input))\n",
        "\n",
        "string_list = ['Hello', 'World']\n",
        "print(tz.join_list(string_list))\n"
      ],
      "metadata": {
        "id": "KPKuzqhEcqgv"
      },
      "execution_count": null,
      "outputs": []
    },
    {
      "cell_type": "markdown",
      "source": [
        "**LOGICAL OPERATIONS**"
      ],
      "metadata": {
        "id": "75pKdedXdDnl"
      }
    },
    {
      "cell_type": "code",
      "source": [
        "palindrome_string = \"madam\"\n",
        "print(tz.is_palindrome(palindrome_string))\n",
        "\n",
        "prime_check_num = 7\n",
        "print(tz.is_prime(prime_check_num))\n",
        "\n",
        "int_string = \"123\"\n",
        "print(tz.convert_to_int(int_string))\n",
        "\n",
        "float_string = \"123.45\"\n",
        "print(tz.convert_to_float(float_string))\n",
        "\n",
        "value = 10\n",
        "print(tz.check_type(value))\n",
        "\n",
        "duplicate_list = [1, 2, 2, 3, 3, 4]\n",
        "print(tz.remove_duplicates(duplicate_list))\n",
        "\n",
        "list_one = [1, 2, 3]\n",
        "list_two = [4, 5, 6]\n",
        "print(tz.merge_lists(list_one, list_two))"
      ],
      "metadata": {
        "id": "z6ZCX1Y4c75h",
        "colab": {
          "base_uri": "https://localhost:8080/"
        },
        "outputId": "fd9de618-4106-4b63-9f28-b78a89e9ad45"
      },
      "execution_count": 6,
      "outputs": [
        {
          "output_type": "stream",
          "name": "stdout",
          "text": [
            "True\n",
            "True\n",
            "123\n",
            "123.45\n",
            "int\n",
            "[1, 2, 3, 4]\n",
            "[1, 2, 3, 4, 5, 6]\n"
          ]
        }
      ]
    },
    {
      "cell_type": "markdown",
      "source": [
        "**CREDITS**"
      ],
      "metadata": {
        "id": "9xpeyFojexqA"
      }
    },
    {
      "cell_type": "code",
      "source": [
        "tz.kaptan()"
      ],
      "metadata": {
        "colab": {
          "base_uri": "https://localhost:8080/"
        },
        "id": "JuVyac4yezrQ",
        "outputId": "68fd67ba-feac-4bac-bd04-6d33c42b17f7"
      },
      "execution_count": 5,
      "outputs": [
        {
          "output_type": "stream",
          "name": "stdout",
          "text": [
            "Taizun is an AI engineer studying in their first year, pursuing a BTech degree. Hope you have a great day ahead.\n"
          ]
        }
      ]
    },
    {
      "cell_type": "code",
      "source": [],
      "metadata": {
        "id": "fJCFYf-re2Er"
      },
      "execution_count": null,
      "outputs": []
    }
  ]
}